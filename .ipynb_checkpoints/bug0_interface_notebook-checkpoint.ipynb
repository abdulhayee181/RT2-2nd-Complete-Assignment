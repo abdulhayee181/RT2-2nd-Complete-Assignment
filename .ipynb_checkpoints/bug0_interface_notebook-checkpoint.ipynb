{
 "cells": [
  {
   "cell_type": "code",
   "execution_count": 1,
   "id": "ca035f7c-b6d0-4fff-9c19-a12672737821",
   "metadata": {},
   "outputs": [],
   "source": [
    "# Import ROS 1 specific libraries and messages\n",
    "import rospy\n",
    "import actionlib\n",
    "from assignment_2_2024.msg import PlanningAction, PlanningGoal\n",
    "from geometry_msgs.msg import PoseStamped\n",
    "import ipywidgets as widgets\n",
    "from IPython.display import display\n"
   ]
  },
  {
   "cell_type": "code",
   "execution_count": 4,
   "id": "022e659b-b7ea-43e5-bcce-96d48d3f5353",
   "metadata": {},
   "outputs": [],
   "source": [
    "# Initialize ROS Node (important for ROS 1)\n",
    "rospy.init_node('action_client_notebook', anonymous=True)"
   ]
  },
  {
   "cell_type": "code",
   "execution_count": 5,
   "id": "5a98a3d8-9369-4a61-9441-ee39db406c8a",
   "metadata": {},
   "outputs": [
    {
     "name": "stdout",
     "output_type": "stream",
     "text": [
      "Action server is ready.\n"
     ]
    }
   ],
   "source": [
    "# | Step 3: Setup Action Client |\n",
    "client = actionlib.SimpleActionClient('/reaching_goal', PlanningAction)\n",
    "client.wait_for_server()\n",
    "print(\"Action server is ready.\")\n"
   ]
  },
  {
   "cell_type": "code",
   "execution_count": 7,
   "id": "de50c567-b829-44ac-aff1-58eaf94bf8ad",
   "metadata": {},
   "outputs": [],
   "source": [
    "# # Initialize ROS Node (important for ROS 1)\n",
    "# rospy.init_node('action_client_notebook', anonymous=True)\n",
    "\n",
    "# # Create the ActionClient for the 'planning' action server\n",
    "# client = actionlib.SimpleActionClient('planning', PlanningAction)\n",
    "\n",
    "# # Wait for the action server to start\n",
    "# client.wait_for_server()\n"
   ]
  },
  {
   "cell_type": "code",
   "execution_count": 9,
   "id": "19e62fab-8b5d-4b15-bb22-56d97e927c3a",
   "metadata": {},
   "outputs": [],
   "source": [
    "# Create widgets for user input to set the target (x, y) position\n",
    "target_x = widgets.FloatText(description='Target X:')\n",
    "target_y = widgets.FloatText(description='Target Y:')\n",
    "target_button = widgets.Button(description='Set Target')\n",
    "\n",
    "# Output widget to show sent goals and server feedback\n",
    "output = widgets.Output()\n"
   ]
  },
  {
   "cell_type": "code",
   "execution_count": 10,
   "id": "b057267c-e4de-47d6-9eaf-9571dd4970df",
   "metadata": {},
   "outputs": [],
   "source": [
    "# # | Step 3: Setup Action Client |\n",
    "# client = actionlib.SimpleActionClient('/reaching_goal', PlanningAction)\n",
    "# client.wait_for_server()\n",
    "# print(\"Action server is ready.\")\n"
   ]
  },
  {
   "cell_type": "code",
   "execution_count": 13,
   "id": "fd7b5426-c01f-44a8-b7f7-dcac0fdfcf42",
   "metadata": {},
   "outputs": [],
   "source": [
    "def set_target(sender):\n",
    "    # Create a PoseStamped message to hold the target pose\n",
    "    target_pose = PoseStamped()\n",
    "    target_pose.header.frame_id = 'map'  # Assuming 'map' frame; adjust as needed\n",
    "    target_pose.pose.position.x = target_x.value\n",
    "    target_pose.pose.position.y = target_y.value\n",
    "\n",
    "    # Prepare the Planning goal message\n",
    "    goal = PlanningGoal()\n",
    "    goal.target_pose = target_pose\n",
    "\n",
    "    # Send the goal to the action server\n",
    "    client.send_goal(goal)\n",
    "\n",
    "    # Monitor feedback\n",
    "    with output:\n",
    "        print(f\"Sent goal: {target_pose.pose.position.x}, {target_pose.pose.position.y}\")\n",
    "        \n",
    "    # Wait for feedback from the action server\n",
    "    client.wait_for_result()\n",
    "    state = client.get_state()\n",
    "\n",
    "    # Check the state of the action client after the goal is executed\n",
    "    with output:\n",
    "        print(f\"Goal state: {state}\")\n",
    "\n",
    "\n",
    "# Link the button click event to the 'set_target' function\n",
    "target_button.on_click(set_target)\n"
   ]
  },
  {
   "cell_type": "code",
   "execution_count": 14,
   "id": "e1c43ceb-3229-47f3-9c10-55b728730d9c",
   "metadata": {},
   "outputs": [
    {
     "data": {
      "application/vnd.jupyter.widget-view+json": {
       "model_id": "651cc64e1eb04987ae5a0e11f0b5812e",
       "version_major": 2,
       "version_minor": 0
      },
      "text/plain": [
       "FloatText(value=10.0, description='Target X:')"
      ]
     },
     "metadata": {},
     "output_type": "display_data"
    },
    {
     "data": {
      "application/vnd.jupyter.widget-view+json": {
       "model_id": "da88d3b080e84b25bd18894ba72a9679",
       "version_major": 2,
       "version_minor": 0
      },
      "text/plain": [
       "FloatText(value=5.0, description='Target Y:')"
      ]
     },
     "metadata": {},
     "output_type": "display_data"
    },
    {
     "data": {
      "application/vnd.jupyter.widget-view+json": {
       "model_id": "792e4ed675f54d14be0cf18977f3cb14",
       "version_major": 2,
       "version_minor": 0
      },
      "text/plain": [
       "Button(description='Set Target', style=ButtonStyle())"
      ]
     },
     "metadata": {},
     "output_type": "display_data"
    },
    {
     "data": {
      "application/vnd.jupyter.widget-view+json": {
       "model_id": "08d92b59d56947e0b5fc6b0a6f7de7d2",
       "version_major": 2,
       "version_minor": 0
      },
      "text/plain": [
       "Output()"
      ]
     },
     "metadata": {},
     "output_type": "display_data"
    }
   ],
   "source": [
    "# Display the widgets in the Jupyter notebook\n",
    "display(target_x, target_y, target_button, output)\n"
   ]
  },
  {
   "cell_type": "code",
   "execution_count": null,
   "id": "1c83e338-f92c-4394-94d1-ad663c2cc69f",
   "metadata": {},
   "outputs": [],
   "source": []
  }
 ],
 "metadata": {
  "kernelspec": {
   "display_name": "Python 3 (ipykernel)",
   "language": "python",
   "name": "python3"
  },
  "language_info": {
   "codemirror_mode": {
    "name": "ipython",
    "version": 3
   },
   "file_extension": ".py",
   "mimetype": "text/x-python",
   "name": "python",
   "nbconvert_exporter": "python",
   "pygments_lexer": "ipython3",
   "version": "3.8.20"
  }
 },
 "nbformat": 4,
 "nbformat_minor": 5
}
