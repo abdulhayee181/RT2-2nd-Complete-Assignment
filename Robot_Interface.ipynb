{
 "cells": [
  {
   "cell_type": "code",
   "execution_count": 1,
   "id": "4fd72071",
   "metadata": {},
   "outputs": [],
   "source": [
    "import rospy\n",
    "import actionlib\n",
    "from geometry_msgs.msg import Point\n",
    "from assignment_2_2024.msg import PlanningAction, PlanningGoal  # Adjust to your pkg/action\n",
    "from nav_msgs.msg import Odometry\n",
    "from sensor_msgs.msg import LaserScan\n",
    "import ipywidgets as widgets\n",
    "from IPython.display import display\n",
    "import math"
   ]
  },
  {
   "cell_type": "code",
   "execution_count": 2,
   "id": "554ef49a",
   "metadata": {},
   "outputs": [],
   "source": [
    "class RobotInterface:\n",
    "    def __init__(self):\n",
    "        # Initialize action client\n",
    "        self.client = actionlib.SimpleActionClient('/reaching_goal', PlanningAction)\n",
    "        self.client.wait_for_server()\n",
    "        \n",
    "        # Robot state (updated by subscribers)\n",
    "        self.robot_pos = Point()\n",
    "        self.min_distance = float('inf')\n",
    "        \n",
    "        # Subscribers\n",
    "        rospy.Subscriber('/odom', Odometry, self.odom_callback)\n",
    "        rospy.Subscriber('/scan', LaserScan, self.scan_callback)"
   ]
  },
  {
   "cell_type": "code",
   "execution_count": 3,
   "id": "ea7b5b23",
   "metadata": {},
   "outputs": [],
   "source": [
    "    def odom_callback(self, msg):\n",
    "        # Update robot position (x, y)\n",
    "        self.robot_pos.x = msg.pose.pose.position.x\n",
    "        self.robot_pos.y = msg.pose.pose.position.y\n",
    "    \n",
    "    def scan_callback(self, msg):\n",
    "        # Update minimum obstacle distance (ignore inf values)\n",
    "        self.min_distance = min(r for r in msg.ranges if not math.isinf(r))"
   ]
  },
  {
   "cell_type": "code",
   "execution_count": 4,
   "id": "a3f709a0",
   "metadata": {},
   "outputs": [],
   "source": [
    "    def run(self):\n",
    "        # Target input widgets\n",
    "        x_input = widgets.FloatText(description=\"X:\")\n",
    "        y_input = widgets.FloatText(description=\"Y:\")\n",
    "        goal_button = widgets.Button(description=\"Set Goal\")\n",
    "        cancel_button = widgets.Button(description=\"Cancel Goal\")\n",
    "        \n",
    "        # Display widgets\n",
    "        display(x_input, y_input, goal_button, cancel_button)\n",
    "        \n",
    "        # Output widgets for feedback\n",
    "        pos_label = widgets.Label(value=f\"Robot Position: (0.0, 0.0)\")\n",
    "        dist_label = widgets.Label(value=\"Closest Obstacle: ∞ meters\")\n",
    "        display(pos_label, dist_label)\n",
    "        \n",
    "        # Button actions\n",
    "        def set_goal(_):\n",
    "            goal = PlanningGoal()\n",
    "            goal.target_pose.pose.position.x = x_input.value\n",
    "            goal.target_pose.pose.position.y = y_input.value\n",
    "            self.client.send_goal(goal)\n",
    "        \n",
    "        def cancel_goal(_):\n",
    "            self.client.cancel_goal()\n",
    "        \n",
    "        goal_button.on_click(set_goal)\n",
    "        cancel_button.on_click(cancel_goal)\n",
    "        \n",
    "        # Update UI in real-time\n",
    "        while True:\n",
    "            pos_label.value = f\"Robot Position: ({self.robot_pos.x:.2f}, {self.robot_pos.y:.2f})\"\n",
    "            dist_label.value = f\"Closest Obstacle: {self.min_distance:.2f} meters\"\n",
    "            rospy.sleep(0.1)"
   ]
  },
  {
   "cell_type": "code",
   "execution_count": 5,
   "id": "1f7434c1",
   "metadata": {},
   "outputs": [
    {
     "ename": "AttributeError",
     "evalue": "'RobotInterface' object has no attribute 'odom_callback'",
     "output_type": "error",
     "traceback": [
      "\u001b[0;31m---------------------------------------------------------------------------\u001b[0m",
      "\u001b[0;31mAttributeError\u001b[0m                            Traceback (most recent call last)",
      "Cell \u001b[0;32mIn[5], line 3\u001b[0m\n\u001b[1;32m      1\u001b[0m \u001b[38;5;28;01mif\u001b[39;00m \u001b[38;5;18m__name__\u001b[39m \u001b[38;5;241m==\u001b[39m \u001b[38;5;124m\"\u001b[39m\u001b[38;5;124m__main__\u001b[39m\u001b[38;5;124m\"\u001b[39m:\n\u001b[1;32m      2\u001b[0m     rospy\u001b[38;5;241m.\u001b[39minit_node(\u001b[38;5;124m'\u001b[39m\u001b[38;5;124mrobot_interface\u001b[39m\u001b[38;5;124m'\u001b[39m)\n\u001b[0;32m----> 3\u001b[0m     interface \u001b[38;5;241m=\u001b[39m \u001b[43mRobotInterface\u001b[49m\u001b[43m(\u001b[49m\u001b[43m)\u001b[49m\n\u001b[1;32m      4\u001b[0m     interface\u001b[38;5;241m.\u001b[39mrun()\n",
      "Cell \u001b[0;32mIn[2], line 12\u001b[0m, in \u001b[0;36mRobotInterface.__init__\u001b[0;34m(self)\u001b[0m\n\u001b[1;32m      9\u001b[0m \u001b[38;5;28mself\u001b[39m\u001b[38;5;241m.\u001b[39mmin_distance \u001b[38;5;241m=\u001b[39m \u001b[38;5;28mfloat\u001b[39m(\u001b[38;5;124m'\u001b[39m\u001b[38;5;124minf\u001b[39m\u001b[38;5;124m'\u001b[39m)\n\u001b[1;32m     11\u001b[0m \u001b[38;5;66;03m# Subscribers\u001b[39;00m\n\u001b[0;32m---> 12\u001b[0m rospy\u001b[38;5;241m.\u001b[39mSubscriber(\u001b[38;5;124m'\u001b[39m\u001b[38;5;124m/odom\u001b[39m\u001b[38;5;124m'\u001b[39m, Odometry, \u001b[38;5;28;43mself\u001b[39;49m\u001b[38;5;241;43m.\u001b[39;49m\u001b[43modom_callback\u001b[49m)\n\u001b[1;32m     13\u001b[0m rospy\u001b[38;5;241m.\u001b[39mSubscriber(\u001b[38;5;124m'\u001b[39m\u001b[38;5;124m/scan\u001b[39m\u001b[38;5;124m'\u001b[39m, LaserScan, \u001b[38;5;28mself\u001b[39m\u001b[38;5;241m.\u001b[39mscan_callback)\n",
      "\u001b[0;31mAttributeError\u001b[0m: 'RobotInterface' object has no attribute 'odom_callback'"
     ]
    }
   ],
   "source": [
    "if __name__ == \"__main__\":\n",
    "    rospy.init_node('robot_interface')\n",
    "    interface = RobotInterface()\n",
    "    interface.run()"
   ]
  },
  {
   "cell_type": "code",
   "execution_count": 6,
   "id": "62b09f43-a8d2-44a2-8261-aad6429e28e3",
   "metadata": {},
   "outputs": [
    {
     "name": "stdout",
     "output_type": "stream",
     "text": [
      "Robot Interface Ready!\n"
     ]
    },
    {
     "data": {
      "application/vnd.jupyter.widget-view+json": {
       "model_id": "852d4c10a2314271870166d3c8baa715",
       "version_major": 2,
       "version_minor": 0
      },
      "text/plain": [
       "FloatText(value=0.0, description='X:')"
      ]
     },
     "metadata": {},
     "output_type": "display_data"
    },
    {
     "data": {
      "application/vnd.jupyter.widget-view+json": {
       "model_id": "ab4171a7ef9547ff8a76f0e2a5ec5137",
       "version_major": 2,
       "version_minor": 0
      },
      "text/plain": [
       "FloatText(value=0.0, description='Y:')"
      ]
     },
     "metadata": {},
     "output_type": "display_data"
    },
    {
     "data": {
      "application/vnd.jupyter.widget-view+json": {
       "model_id": "f648a1e7097d4f82a25a6bb3b67efaa3",
       "version_major": 2,
       "version_minor": 0
      },
      "text/plain": [
       "Button(description='Set Goal', style=ButtonStyle())"
      ]
     },
     "metadata": {},
     "output_type": "display_data"
    },
    {
     "data": {
      "application/vnd.jupyter.widget-view+json": {
       "model_id": "f49807cfa4a14003aedd679fd984edb5",
       "version_major": 2,
       "version_minor": 0
      },
      "text/plain": [
       "Button(description='Cancel Goal', style=ButtonStyle())"
      ]
     },
     "metadata": {},
     "output_type": "display_data"
    },
    {
     "data": {
      "application/vnd.jupyter.widget-view+json": {
       "model_id": "182afac7ba2a42f6be0ddf02c42daabe",
       "version_major": 2,
       "version_minor": 0
      },
      "text/plain": [
       "Label(value='')"
      ]
     },
     "metadata": {},
     "output_type": "display_data"
    },
    {
     "data": {
      "application/vnd.jupyter.widget-view+json": {
       "model_id": "4cf117f4546240ff8570e860b368babb",
       "version_major": 2,
       "version_minor": 0
      },
      "text/plain": [
       "Label(value='')"
      ]
     },
     "metadata": {},
     "output_type": "display_data"
    },
    {
     "name": "stdout",
     "output_type": "stream",
     "text": [
      "Interface stopped\n"
     ]
    }
   ],
   "source": [
    "#!/usr/bin/env python\n",
    "\n",
    "# ROS imports\n",
    "import rospy\n",
    "import actionlib\n",
    "from geometry_msgs.msg import Point\n",
    "from nav_msgs.msg import Odometry\n",
    "from sensor_msgs.msg import LaserScan\n",
    "import ipywidgets as widgets\n",
    "from IPython.display import display\n",
    "import math\n",
    "\n",
    "# Import your action messages (make sure your package is built)\n",
    "try:\n",
    "    from assignment_2_2024.msg import PlanningAction, PlanningGoal\n",
    "except ImportError as e:\n",
    "    print(f\"Error importing action messages: {e}\")\n",
    "    print(\"Did you build your package with 'catkin_make'?\")\n",
    "    raise\n",
    "\n",
    "class RobotInterface:\n",
    "    def __init__(self):\n",
    "        # Initialize action client\n",
    "        self.client = actionlib.SimpleActionClient('/reaching_goal', PlanningAction)\n",
    "        self.client.wait_for_server()\n",
    "        \n",
    "        # Robot state\n",
    "        self.robot_pos = Point()\n",
    "        self.min_distance = float('inf')\n",
    "        \n",
    "        # Initialize subscribers\n",
    "        self.odom_sub = rospy.Subscriber('/odom', Odometry, self.odom_callback)\n",
    "        self.scan_sub = rospy.Subscriber('/scan', LaserScan, self.scan_callback)\n",
    "    \n",
    "    def odom_callback(self, msg):\n",
    "        \"\"\"Callback for Odometry messages\"\"\"\n",
    "        self.robot_pos.x = msg.pose.pose.position.x\n",
    "        self.robot_pos.y = msg.pose.pose.position.y\n",
    "    \n",
    "    def scan_callback(self, msg):\n",
    "        \"\"\"Callback for LaserScan messages\"\"\"\n",
    "        valid_ranges = [r for r in msg.ranges if not math.isinf(r)]\n",
    "        if valid_ranges:\n",
    "            self.min_distance = min(valid_ranges)\n",
    "    \n",
    "    def run(self):\n",
    "        \"\"\"Create and display the interactive interface\"\"\"\n",
    "        # Target input widgets\n",
    "        x_input = widgets.FloatText(description=\"X:\")\n",
    "        y_input = widgets.FloatText(description=\"Y:\")\n",
    "        goal_button = widgets.Button(description=\"Set Goal\")\n",
    "        cancel_button = widgets.Button(description=\"Cancel Goal\")\n",
    "        \n",
    "        # Display widgets\n",
    "        display(x_input, y_input, goal_button, cancel_button)\n",
    "        \n",
    "        # Output widgets\n",
    "        pos_label = widgets.Label()\n",
    "        dist_label = widgets.Label()\n",
    "        display(pos_label, dist_label)\n",
    "        \n",
    "        # Button actions\n",
    "        def set_goal(_):\n",
    "            goal = PlanningGoal()\n",
    "            goal.target_pose.pose.position.x = x_input.value\n",
    "            goal.target_pose.pose.position.y = y_input.value\n",
    "            self.client.send_goal(goal)\n",
    "            print(f\"Goal set to: ({x_input.value}, {y_input.value})\")\n",
    "        \n",
    "        def cancel_goal(_):\n",
    "            self.client.cancel_goal()\n",
    "            print(\"Goal cancelled\")\n",
    "        \n",
    "        goal_button.on_click(set_goal)\n",
    "        cancel_button.on_click(cancel_goal)\n",
    "        \n",
    "        # Update UI in real-time\n",
    "        try:\n",
    "            while not rospy.is_shutdown():\n",
    "                pos_label.value = f\"Robot Position: ({self.robot_pos.x:.2f}, {self.robot_pos.y:.2f})\"\n",
    "                dist_label.value = f\"Closest Obstacle: {self.min_distance:.2f} meters\"\n",
    "                rospy.sleep(0.1)\n",
    "        except KeyboardInterrupt:\n",
    "            print(\"Interface stopped\")\n",
    "\n",
    "if __name__ == \"__main__\":\n",
    "    try:\n",
    "        rospy.init_node('robot_interface')\n",
    "        interface = RobotInterface()\n",
    "        print(\"Robot Interface Ready!\")\n",
    "        interface.run()\n",
    "    except rospy.ROSInterruptException:\n",
    "        pass"
   ]
  },
  {
   "cell_type": "code",
   "execution_count": null,
   "id": "c43b5034-8228-444b-8340-6bca615ebda4",
   "metadata": {},
   "outputs": [],
   "source": []
  },
  {
   "cell_type": "code",
   "execution_count": null,
   "id": "347fe8a7-7ef6-4645-b39b-d8bef852113b",
   "metadata": {},
   "outputs": [],
   "source": []
  },
  {
   "cell_type": "code",
   "execution_count": null,
   "id": "8c9c1185-93a5-4996-84f6-a24bc359d3d8",
   "metadata": {},
   "outputs": [],
   "source": []
  },
  {
   "cell_type": "code",
   "execution_count": 15,
   "id": "614bf659-fd02-4ea1-a67e-468bb316b263",
   "metadata": {},
   "outputs": [
    {
     "name": "stdout",
     "output_type": "stream",
     "text": [
      "Interface ready! Use the controls below.\n"
     ]
    },
    {
     "name": "stderr",
     "output_type": "stream",
     "text": [
      "[ERROR] [1746566210.885458, 2762.356000]: Could not connect to action server!\n"
     ]
    },
    {
     "data": {
      "application/vnd.jupyter.widget-view+json": {
       "model_id": "e98965c18ece47e588175268bc34dd4e",
       "version_major": 2,
       "version_minor": 0
      },
      "text/plain": [
       "VBox(children=(FloatText(value=0.0, description='X:'), FloatText(value=0.0, description='Y:'), Button(descript…"
      ]
     },
     "metadata": {},
     "output_type": "display_data"
    }
   ],
   "source": [
    "#!/usr/bin/env python\n",
    "\n",
    "# ROS Setup\n",
    "import sys\n",
    "\n",
    "\n",
    "import rospy\n",
    "import actionlib\n",
    "import ipywidgets as widgets\n",
    "from IPython.display import display\n",
    "import math\n",
    "\n",
    "# ROS Messages\n",
    "from geometry_msgs.msg import Point, PoseStamped\n",
    "from nav_msgs.msg import Odometry\n",
    "from sensor_msgs.msg import LaserScan\n",
    "from assignment_2_2024.msg import PlanningAction, PlanningGoal, PlanningResult\n",
    "\n",
    "class RobotInterface:\n",
    "    def __init__(self):\n",
    "        # Action Client\n",
    "        self.client = actionlib.SimpleActionClient('/reaching_goal', PlanningAction)\n",
    "        if not self.client.wait_for_server(rospy.Duration(5.0)):\n",
    "            rospy.logerr(\"Could not connect to action server!\")\n",
    "            return\n",
    "        \n",
    "        # Robot State\n",
    "        self.robot_pos = Point()\n",
    "        self.min_distance = float('inf')\n",
    "        self.goal_status = \"No active goal\"\n",
    "        \n",
    "        # Subscribers\n",
    "        self.odom_sub = rospy.Subscriber('/odom', Odometry, self.odom_callback)\n",
    "        self.scan_sub = rospy.Subscriber('/scan', LaserScan, self.scan_callback)\n",
    "    \n",
    "    def odom_callback(self, msg):\n",
    "        self.robot_pos.x = msg.pose.pose.position.x\n",
    "        self.robot_pos.y = msg.pose.pose.position.y\n",
    "    \n",
    "    def scan_callback(self, msg):\n",
    "        valid_ranges = [r for r in msg.ranges if not math.isinf(r) and r > 0.1]\n",
    "        self.min_distance = min(valid_ranges) if valid_ranges else float('inf')\n",
    "    \n",
    "    def run(self):\n",
    "        # UI Widgets\n",
    "        x_input = widgets.FloatText(value=0.0, description=\"X:\")\n",
    "        y_input = widgets.FloatText(value=0.0, description=\"Y:\")\n",
    "        goal_button = widgets.Button(description=\"Set Goal\")\n",
    "        cancel_button = widgets.Button(description=\"Cancel Goal\")\n",
    "        \n",
    "        status_label = widgets.Label(value=\"Status: Ready\")\n",
    "        pos_label = widgets.Label()\n",
    "        dist_label = widgets.Label()\n",
    "        \n",
    "        display(widgets.VBox([x_input, y_input, goal_button, cancel_button, \n",
    "                            status_label, pos_label, dist_label]))\n",
    "        \n",
    "        def set_goal(_):\n",
    "            goal = PlanningGoal()\n",
    "            goal.target_pose = PoseStamped()\n",
    "            goal.target_pose.pose.position.x = x_input.value\n",
    "            goal.target_pose.pose.position.y = y_input.value\n",
    "            self.client.send_goal(\n",
    "                goal,\n",
    "                done_cb=self.goal_done,\n",
    "                active_cb=self.goal_active,\n",
    "                feedback_cb=self.goal_feedback\n",
    "            )\n",
    "            status_label.value = \"Status: Goal sent!\"\n",
    "        \n",
    "        def cancel_goal(_):\n",
    "            self.client.cancel_goal()\n",
    "            status_label.value = \"Status: Goal cancelled\"\n",
    "        \n",
    "        goal_button.on_click(set_goal)\n",
    "        cancel_button.on_click(cancel_goal)\n",
    "        \n",
    "        try:\n",
    "            while not rospy.is_shutdown():\n",
    "                pos_label.value = f\"Position: ({self.robot_pos.x:.2f}, {self.robot_pos.y:.2f})\"\n",
    "                dist_label.value = f\"Closest obstacle: {self.min_distance:.2f}m\"\n",
    "                rospy.sleep(0.1)\n",
    "        except KeyboardInterrupt:\n",
    "            pass\n",
    "    \n",
    "    def goal_active(self):\n",
    "        self.goal_status = \"Goal active\"\n",
    "    \n",
    "    def goal_feedback(self, feedback):\n",
    "        pass  # Can implement if you have feedback in your action\n",
    "    \n",
    "    def goal_done(self, status, result):\n",
    "        if status == actionlib.GoalStatus.SUCCEEDED:\n",
    "            self.goal_status = f\"Success! Final position: ({result.actual_pose.position.x:.2f}, {result.actual_pose.position.y:.2f})\"\n",
    "        else:\n",
    "            self.goal_status = f\"Failed with status: {status}\"\n",
    "\n",
    "if __name__ == \"__main__\":\n",
    "    rospy.init_node('robot_interface')\n",
    "    interface = RobotInterface()\n",
    "    print(\"Interface ready! Use the controls below.\")\n",
    "    interface.run()"
   ]
  },
  {
   "cell_type": "code",
   "execution_count": null,
   "id": "324daee2-b25a-4feb-ba7b-fbe46307f2bf",
   "metadata": {},
   "outputs": [],
   "source": []
  },
  {
   "cell_type": "code",
   "execution_count": null,
   "id": "d4228fb2-bf5b-4e32-9bd4-d4c41393a571",
   "metadata": {},
   "outputs": [],
   "source": []
  },
  {
   "cell_type": "code",
   "execution_count": 11,
   "id": "67543f4c-81c6-4f43-aeee-f465c2c872a8",
   "metadata": {},
   "outputs": [
    {
     "name": "stdout",
     "output_type": "stream",
     "text": [
      "[INFO] [1746565402.358821, 2762.356000]: Action server started\n"
     ]
    }
   ],
   "source": [
    "#!/usr/bin/env python\n",
    "import rospy\n",
    "import actionlib\n",
    "import math\n",
    "from geometry_msgs.msg import Twist, PoseStamped\n",
    "from nav_msgs.msg import Odometry\n",
    "from assignment_2_2024.msg import PlanningAction, PlanningFeedback, PlanningResult\n",
    "\n",
    "class PlanningServer:\n",
    "    def __init__(self):\n",
    "        # Initialize ROS node if not already initialized\n",
    "        try:\n",
    "            rospy.init_node('planning_server', anonymous=True)\n",
    "        except rospy.exceptions.ROSException:\n",
    "            pass  # Already initialized\n",
    "            \n",
    "        self.server = actionlib.SimpleActionServer('/reaching_goal', PlanningAction, self.execute, False)\n",
    "        self.cmd_vel_pub = rospy.Publisher('/cmd_vel', Twist, queue_size=10)\n",
    "        self.odom_sub = rospy.Subscriber('/odom', Odometry, self.odom_callback)\n",
    "        self.current_pose = None\n",
    "        self.server.start()\n",
    "        rospy.loginfo(\"Action server started\")\n",
    "\n",
    "    def odom_callback(self, msg):\n",
    "        self.current_pose = msg.pose.pose\n",
    "\n",
    "    def execute(self, goal):\n",
    "        rospy.loginfo(f\"New goal received: ({goal.target_pose.pose.position.x}, {goal.target_pose.pose.position.y})\")\n",
    "        rate = rospy.Rate(10)\n",
    "        success = True\n",
    "        twist = Twist()\n",
    "        \n",
    "        while not rospy.is_shutdown():\n",
    "            if self.server.is_preempt_requested():\n",
    "                rospy.loginfo(\"Goal preempted\")\n",
    "                self.server.set_preempted()\n",
    "                success = False\n",
    "                break\n",
    "\n",
    "            if self.current_pose is None:\n",
    "                rospy.logwarn(\"Waiting for odometry data...\")\n",
    "                rate.sleep()\n",
    "                continue\n",
    "\n",
    "            # Calculate distance to goal\n",
    "            dx = goal.target_pose.pose.position.x - self.current_pose.position.x\n",
    "            dy = goal.target_pose.pose.position.y - self.current_pose.position.y\n",
    "            distance = math.sqrt(dx**2 + dy**2)\n",
    "\n",
    "            # Stop if reached goal\n",
    "            if distance < 0.1:  # Threshold\n",
    "                twist.linear.x = 0\n",
    "                twist.angular.z = 0\n",
    "                self.cmd_vel_pub.publish(twist)\n",
    "                rospy.loginfo(\"Goal reached!\")\n",
    "                break\n",
    "\n",
    "            # Calculate angle to goal\n",
    "            target_angle = math.atan2(dy, dx)\n",
    "            current_angle = 2 * math.atan2(\n",
    "                self.current_pose.orientation.z,\n",
    "                self.current_pose.orientation.w\n",
    "            )\n",
    "            angle_error = target_angle - current_angle\n",
    "            angle_error = math.atan2(math.sin(angle_error), math.cos(angle_error))\n",
    "\n",
    "            # Proportional control\n",
    "            twist.linear.x = min(0.5, distance * 0.5)\n",
    "            twist.angular.z = angle_error * 1.0\n",
    "\n",
    "            self.cmd_vel_pub.publish(twist)\n",
    "            rate.sleep()\n",
    "\n",
    "        if success:\n",
    "            result = PlanningResult()\n",
    "            result.actual_pose = self.current_pose\n",
    "            result.stat = \"Goal reached successfully\"\n",
    "            self.server.set_succeeded(result)\n",
    "            rospy.loginfo(\"Goal succeeded\")\n",
    "\n",
    "if __name__ == \"__main__\":\n",
    "    try:\n",
    "        server = PlanningServer()\n",
    "        rospy.spin()\n",
    "    except rospy.ROSInterruptException:\n",
    "        pass"
   ]
  },
  {
   "cell_type": "code",
   "execution_count": null,
   "id": "587ca16b-06b1-4fad-a43d-766519014a3e",
   "metadata": {},
   "outputs": [],
   "source": []
  },
  {
   "cell_type": "code",
   "execution_count": null,
   "id": "831eea51-c146-47f4-9e15-5bb647965821",
   "metadata": {},
   "outputs": [],
   "source": []
  },
  {
   "cell_type": "code",
   "execution_count": 13,
   "id": "8a97965a-7d6f-4d43-b9a0-8f241cd8b1fa",
   "metadata": {},
   "outputs": [
    {
     "name": "stderr",
     "output_type": "stream",
     "text": [
      "[WARN] [1746565657.325186, 2762.356000]: Couldn't connect to action server!\n"
     ]
    },
    {
     "data": {
      "application/vnd.jupyter.widget-view+json": {
       "model_id": "8cc0ad87e132436b8546dbd1a4ab66c7",
       "version_major": 2,
       "version_minor": 0
      },
      "text/plain": [
       "VBox(children=(HBox(children=(FloatText(value=0.0, description='X:'), FloatText(value=0.0, description='Y:')))…"
      ]
     },
     "metadata": {},
     "output_type": "display_data"
    },
    {
     "ename": "ROSInterruptException",
     "evalue": "ROS shutdown request",
     "output_type": "error",
     "traceback": [
      "\u001b[0;31m---------------------------------------------------------------------------\u001b[0m",
      "\u001b[0;31mROSInterruptException\u001b[0m                     Traceback (most recent call last)",
      "Cell \u001b[0;32mIn[13], line 91\u001b[0m\n\u001b[1;32m     88\u001b[0m             rospy\u001b[38;5;241m.\u001b[39msleep(\u001b[38;5;241m0.1\u001b[39m)\n\u001b[1;32m     90\u001b[0m \u001b[38;5;66;03m# Start interface\u001b[39;00m\n\u001b[0;32m---> 91\u001b[0m interface \u001b[38;5;241m=\u001b[39m \u001b[43mRobotInterface\u001b[49m\u001b[43m(\u001b[49m\u001b[43m)\u001b[49m\n",
      "Cell \u001b[0;32mIn[13], line 32\u001b[0m, in \u001b[0;36mRobotInterface.__init__\u001b[0;34m(self)\u001b[0m\n\u001b[1;32m     29\u001b[0m rospy\u001b[38;5;241m.\u001b[39mSubscriber(\u001b[38;5;124m'\u001b[39m\u001b[38;5;124m/scan\u001b[39m\u001b[38;5;124m'\u001b[39m, LaserScan, \u001b[38;5;28mself\u001b[39m\u001b[38;5;241m.\u001b[39mscan_callback)\n\u001b[1;32m     31\u001b[0m \u001b[38;5;66;03m# Create UI\u001b[39;00m\n\u001b[0;32m---> 32\u001b[0m \u001b[38;5;28;43mself\u001b[39;49m\u001b[38;5;241;43m.\u001b[39;49m\u001b[43mcreate_ui\u001b[49m\u001b[43m(\u001b[49m\u001b[43m)\u001b[49m\n",
      "Cell \u001b[0;32mIn[13], line 88\u001b[0m, in \u001b[0;36mRobotInterface.create_ui\u001b[0;34m(self)\u001b[0m\n\u001b[1;32m     86\u001b[0m position_label\u001b[38;5;241m.\u001b[39mvalue \u001b[38;5;241m=\u001b[39m \u001b[38;5;124mf\u001b[39m\u001b[38;5;124m\"\u001b[39m\u001b[38;5;124mPosition: (\u001b[39m\u001b[38;5;132;01m{\u001b[39;00m\u001b[38;5;28mself\u001b[39m\u001b[38;5;241m.\u001b[39mposition[\u001b[38;5;241m0\u001b[39m]\u001b[38;5;132;01m:\u001b[39;00m\u001b[38;5;124m.2f\u001b[39m\u001b[38;5;132;01m}\u001b[39;00m\u001b[38;5;124m, \u001b[39m\u001b[38;5;132;01m{\u001b[39;00m\u001b[38;5;28mself\u001b[39m\u001b[38;5;241m.\u001b[39mposition[\u001b[38;5;241m1\u001b[39m]\u001b[38;5;132;01m:\u001b[39;00m\u001b[38;5;124m.2f\u001b[39m\u001b[38;5;132;01m}\u001b[39;00m\u001b[38;5;124m)\u001b[39m\u001b[38;5;124m\"\u001b[39m\n\u001b[1;32m     87\u001b[0m distance_label\u001b[38;5;241m.\u001b[39mvalue \u001b[38;5;241m=\u001b[39m \u001b[38;5;124mf\u001b[39m\u001b[38;5;124m\"\u001b[39m\u001b[38;5;124mClosest obstacle: \u001b[39m\u001b[38;5;132;01m{\u001b[39;00m\u001b[38;5;28mself\u001b[39m\u001b[38;5;241m.\u001b[39mmin_distance\u001b[38;5;132;01m:\u001b[39;00m\u001b[38;5;124m.2f\u001b[39m\u001b[38;5;132;01m}\u001b[39;00m\u001b[38;5;124mm\u001b[39m\u001b[38;5;124m\"\u001b[39m\n\u001b[0;32m---> 88\u001b[0m \u001b[43mrospy\u001b[49m\u001b[38;5;241;43m.\u001b[39;49m\u001b[43msleep\u001b[49m\u001b[43m(\u001b[49m\u001b[38;5;241;43m0.1\u001b[39;49m\u001b[43m)\u001b[49m\n",
      "File \u001b[0;32m/opt/ros/noetic/lib/python3/dist-packages/rospy/timer.py:165\u001b[0m, in \u001b[0;36msleep\u001b[0;34m(duration)\u001b[0m\n\u001b[1;32m    163\u001b[0m     \u001b[38;5;28;01mraise\u001b[39;00m rospy\u001b[38;5;241m.\u001b[39mexceptions\u001b[38;5;241m.\u001b[39mROSTimeMovedBackwardsException(time_jump)\n\u001b[1;32m    164\u001b[0m \u001b[38;5;28;01mif\u001b[39;00m rospy\u001b[38;5;241m.\u001b[39mcore\u001b[38;5;241m.\u001b[39mis_shutdown():\n\u001b[0;32m--> 165\u001b[0m     \u001b[38;5;28;01mraise\u001b[39;00m rospy\u001b[38;5;241m.\u001b[39mexceptions\u001b[38;5;241m.\u001b[39mROSInterruptException(\u001b[38;5;124m\"\u001b[39m\u001b[38;5;124mROS shutdown request\u001b[39m\u001b[38;5;124m\"\u001b[39m)\n",
      "\u001b[0;31mROSInterruptException\u001b[0m: ROS shutdown request"
     ]
    }
   ],
   "source": [
    "import rospy\n",
    "import actionlib\n",
    "import ipywidgets as widgets\n",
    "from IPython.display import display\n",
    "from geometry_msgs.msg import PoseStamped\n",
    "from assignment_2_2024.msg import PlanningAction, PlanningGoal\n",
    "from nav_msgs.msg import Odometry\n",
    "from sensor_msgs.msg import LaserScan\n",
    "\n",
    "# Initialize ROS node\n",
    "try:\n",
    "    rospy.init_node('robot_interface', anonymous=True)\n",
    "except:\n",
    "    pass\n",
    "\n",
    "class RobotInterface:\n",
    "    def __init__(self):\n",
    "        # Action client\n",
    "        self.client = actionlib.SimpleActionClient('/reaching_goal', PlanningAction)\n",
    "        if not self.client.wait_for_server(timeout=rospy.Duration(5)):\n",
    "            rospy.logwarn(\"Couldn't connect to action server!\")\n",
    "        \n",
    "        # Robot state\n",
    "        self.position = (0, 0)\n",
    "        self.min_distance = float('inf')\n",
    "        \n",
    "        # Subscribers\n",
    "        rospy.Subscriber('/odom', Odometry, self.odom_callback)\n",
    "        rospy.Subscriber('/scan', LaserScan, self.scan_callback)\n",
    "        \n",
    "        # Create UI\n",
    "        self.create_ui()\n",
    "    \n",
    "    def odom_callback(self, msg):\n",
    "        self.position = (msg.pose.pose.position.x, \n",
    "                        msg.pose.pose.position.y)\n",
    "    \n",
    "    def scan_callback(self, msg):\n",
    "        valid_ranges = [r for r in msg.ranges if r > 0.1 and not math.isinf(r)]\n",
    "        self.min_distance = min(valid_ranges) if valid_ranges else float('inf')\n",
    "    \n",
    "    def create_ui(self):\n",
    "        # Input widgets\n",
    "        self.x_input = widgets.FloatText(value=0.0, description='X:')\n",
    "        self.y_input = widgets.FloatText(value=0.0, description='Y:')\n",
    "        \n",
    "        # Buttons\n",
    "        set_goal_btn = widgets.Button(description='Set Goal')\n",
    "        cancel_goal_btn = widgets.Button(description='Cancel Goal')\n",
    "        \n",
    "        # Display widgets\n",
    "        position_label = widgets.Label()\n",
    "        distance_label = widgets.Label()\n",
    "        status_output = widgets.Output()\n",
    "        \n",
    "        # Layout\n",
    "        display(widgets.VBox([\n",
    "            widgets.HBox([self.x_input, self.y_input]),\n",
    "            widgets.HBox([set_goal_btn, cancel_goal_btn]),\n",
    "            position_label,\n",
    "            distance_label,\n",
    "            status_output\n",
    "        ]))\n",
    "        \n",
    "        # Button actions\n",
    "        def on_set_goal(b):\n",
    "            goal = PlanningGoal()\n",
    "            goal.target_pose = PoseStamped()\n",
    "            goal.target_pose.pose.position.x = self.x_input.value\n",
    "            goal.target_pose.pose.position.y = self.y_input.value\n",
    "            \n",
    "            with status_output:\n",
    "                print(f\"Setting goal to: ({self.x_input.value}, {self.y_input.value})\")\n",
    "            self.client.send_goal(goal)\n",
    "        \n",
    "        def on_cancel_goal(b):\n",
    "            with status_output:\n",
    "                print(\"Canceling current goal\")\n",
    "            self.client.cancel_goal()\n",
    "        \n",
    "        set_goal_btn.on_click(on_set_goal)\n",
    "        cancel_goal_btn.on_click(on_cancel_goal)\n",
    "        \n",
    "        # Update display\n",
    "        while True:\n",
    "            position_label.value = f\"Position: ({self.position[0]:.2f}, {self.position[1]:.2f})\"\n",
    "            distance_label.value = f\"Closest obstacle: {self.min_distance:.2f}m\"\n",
    "            rospy.sleep(0.1)\n",
    "\n",
    "# Start interface\n",
    "interface = RobotInterface()"
   ]
  },
  {
   "cell_type": "code",
   "execution_count": null,
   "id": "1e43085b-71d0-4eb2-a164-c7901230205e",
   "metadata": {},
   "outputs": [],
   "source": []
  },
  {
   "cell_type": "code",
   "execution_count": null,
   "id": "b14a53a6-4826-4a06-9817-73fd38c1bc45",
   "metadata": {},
   "outputs": [],
   "source": []
  },
  {
   "cell_type": "code",
   "execution_count": 14,
   "id": "d1980b15-b824-4a37-b759-c107cf4ba0a4",
   "metadata": {},
   "outputs": [
    {
     "name": "stderr",
     "output_type": "stream",
     "text": [
      "[ERROR] [1746565693.943070, 2762.356000]: Couldn't connect to action server! Is bug_as.py running?\n"
     ]
    }
   ],
   "source": [
    "#!/usr/bin/env python\n",
    "import rospy\n",
    "import actionlib\n",
    "import ipywidgets as widgets\n",
    "from IPython.display import display\n",
    "from geometry_msgs.msg import PoseStamped, Point\n",
    "from nav_msgs.msg import Odometry\n",
    "from sensor_msgs.msg import LaserScan\n",
    "from assignment_2_2024.msg import PlanningAction, PlanningGoal\n",
    "import math\n",
    "\n",
    "class RobotInterface:\n",
    "    def __init__(self):\n",
    "        # Initialize ROS node (only once)\n",
    "        try:\n",
    "            rospy.init_node('robot_interface', anonymous=True)\n",
    "        except rospy.ROSException:\n",
    "            pass  # Already initialized\n",
    "        \n",
    "        # Connect to existing action server (bug_as.py)\n",
    "        self.client = actionlib.SimpleActionClient('/reaching_goal', PlanningAction)\n",
    "        if not self.client.wait_for_server(timeout=rospy.Duration(5)):\n",
    "            rospy.logerr(\"Couldn't connect to action server! Is bug_as.py running?\")\n",
    "            return\n",
    "        \n",
    "        # Robot state\n",
    "        self.position = Point()\n",
    "        self.min_distance = float('inf')\n",
    "        \n",
    "        # Subscribers\n",
    "        rospy.Subscriber('/odom', Odometry, self.odom_callback)\n",
    "        rospy.Subscriber('/scan', LaserScan, self.scan_callback)\n",
    "        \n",
    "        # Create UI\n",
    "        self.create_widgets()\n",
    "    \n",
    "    def odom_callback(self, msg):\n",
    "        self.position = msg.pose.pose.position\n",
    "    \n",
    "    def scan_callback(self, msg):\n",
    "        valid_ranges = [r for r in msg.ranges if not math.isinf(r) and r > 0.1]\n",
    "        self.min_distance = min(valid_ranges) if valid_ranges else float('inf')\n",
    "    \n",
    "    def create_widgets(self):\n",
    "        # Input widgets\n",
    "        self.x_input = widgets.FloatText(description=\"X:\")\n",
    "        self.y_input = widgets.FloatText(description=\"Y:\")\n",
    "        \n",
    "        # Control buttons\n",
    "        set_goal_btn = widgets.Button(description=\"Set Goal\")\n",
    "        cancel_goal_btn = widgets.Button(description=\"Cancel Goal\")\n",
    "        \n",
    "        # Status display\n",
    "        self.position_label = widgets.Label()\n",
    "        self.distance_label = widgets.Label()\n",
    "        self.status_output = widgets.Output()\n",
    "        \n",
    "        # Layout\n",
    "        display(widgets.VBox([\n",
    "            widgets.HBox([self.x_input, self.y_input]),\n",
    "            widgets.HBox([set_goal_btn, cancel_goal_btn]),\n",
    "            self.position_label,\n",
    "            self.distance_label,\n",
    "            self.status_output\n",
    "        ]))\n",
    "        \n",
    "        # Button actions\n",
    "        set_goal_btn.on_click(self.set_goal)\n",
    "        cancel_goal_btn.on_click(self.cancel_goal)\n",
    "        \n",
    "        # Start UI update loop\n",
    "        self.update_ui()\n",
    "    \n",
    "    def set_goal(self, _):\n",
    "        goal = PlanningGoal()\n",
    "        goal.target_pose = PoseStamped()\n",
    "        goal.target_pose.pose.position.x = self.x_input.value\n",
    "        goal.target_pose.pose.position.y = self.y_input.value\n",
    "        \n",
    "        with self.status_output:\n",
    "            print(f\"Goal set to: ({self.x_input.value}, {self.y_input.value})\")\n",
    "        self.client.send_goal(goal)\n",
    "    \n",
    "    def cancel_goal(self, _):\n",
    "        with self.status_output:\n",
    "            print(\"Goal cancelled\")\n",
    "        self.client.cancel_goal()\n",
    "    \n",
    "    def update_ui(self):\n",
    "        while not rospy.is_shutdown():\n",
    "            self.position_label.value = f\"Position: ({self.position.x:.2f}, {self.position.y:.2f})\"\n",
    "            self.distance_label.value = f\"Closest obstacle: {self.min_distance:.2f}m\"\n",
    "            rospy.sleep(0.1)\n",
    "\n",
    "# Start interface\n",
    "if __name__ == \"__main__\":\n",
    "    interface = RobotInterface()\n",
    "    rospy.spin()"
   ]
  },
  {
   "cell_type": "code",
   "execution_count": null,
   "id": "a688b972-e796-4cda-8860-663ac18897b1",
   "metadata": {},
   "outputs": [],
   "source": []
  }
 ],
 "metadata": {
  "kernelspec": {
   "display_name": "Python 3 (ipykernel)",
   "language": "python",
   "name": "python3"
  },
  "language_info": {
   "codemirror_mode": {
    "name": "ipython",
    "version": 3
   },
   "file_extension": ".py",
   "mimetype": "text/x-python",
   "name": "python",
   "nbconvert_exporter": "python",
   "pygments_lexer": "ipython3",
   "version": "3.8.20"
  }
 },
 "nbformat": 4,
 "nbformat_minor": 5
}
