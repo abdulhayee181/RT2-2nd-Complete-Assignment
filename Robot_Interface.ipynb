{
 "cells": [
  {
   "cell_type": "code",
   "execution_count": 6,
   "id": "b584c996-9d9a-46c8-a947-a61f7b36c0d4",
   "metadata": {},
   "outputs": [],
   "source": [
    "# Core ROS and robotics libraries\n",
    "import rospy\n",
    "import actionlib\n",
    "import math\n",
    "import time\n",
    "\n",
    "# ROS message types\n",
    "from geometry_msgs.msg import Point, PoseStamped\n",
    "from nav_msgs.msg import Odometry\n",
    "from sensor_msgs.msg import LaserScan\n",
    "from assignment_2_2024.msg import PlanningAction, PlanningGoal\n",
    "\n",
    "# Interactive widgets\n",
    "import ipywidgets as widgets\n",
    "from IPython.display import display"
   ]
  },
  {
   "cell_type": "code",
   "execution_count": 7,
   "id": "3362f96e-f63e-490b-baa0-6fa8e6c9b3c2",
   "metadata": {},
   "outputs": [
    {
     "name": "stdout",
     "output_type": "stream",
     "text": [
      "✅ Connected to ROS master\n"
     ]
    },
    {
     "name": "stderr",
     "output_type": "stream",
     "text": [
      "[WARN] [1746710474.692385, 1480.526000]: ROS node already exists\n"
     ]
    }
   ],
   "source": [
    "# Initialize ROS node (only run this once)\n",
    "try:\n",
    "    rospy.init_node('Robot_interface', anonymous=True)\n",
    "    rospy.loginfo(\"ROS node initialized\")\n",
    "except rospy.ROSException:\n",
    "    rospy.logwarn(\"ROS node already exists\")\n",
    "\n",
    "# Verify ROS master connection\n",
    "try:\n",
    "    rospy.get_master().getPid()\n",
    "    print(\"✅ Connected to ROS master\")\n",
    "except:\n",
    "    print(\"❌ Failed to connect to ROS master\")\n",
    "    raise"
   ]
  },
  {
   "cell_type": "code",
   "execution_count": 8,
   "id": "e747069a-b6ce-4b6a-ba81-5638b1bd57fd",
   "metadata": {},
   "outputs": [
    {
     "name": "stdout",
     "output_type": "stream",
     "text": [
      "🔌 Connecting to action server...\n",
      "✅ Connected to action server!\n"
     ]
    }
   ],
   "source": [
    "class ActionClient:\n",
    "    def __init__(self):\n",
    "        self.client = actionlib.SimpleActionClient('/reaching_goal', PlanningAction)\n",
    "        self.connected = False\n",
    "        self.connect_to_server()\n",
    "    \n",
    "    def connect_to_server(self, timeout=10):\n",
    "        \"\"\"Wait for action server with visual feedback\"\"\"\n",
    "        print(\"🔌 Connecting to action server...\")\n",
    "        for i in range(timeout):\n",
    "            if self.client.wait_for_server(rospy.Duration(1.0)):\n",
    "                self.connected = True\n",
    "                print(\"✅ Connected to action server!\")\n",
    "                return True\n",
    "            print(f\"⏳ Attempt {i+1}/{timeout}...\")\n",
    "        print(\"❌ Failed to connect to action server\")\n",
    "        return False\n",
    "\n",
    "# Test connection\n",
    "action_client = ActionClient()"
   ]
  },
  {
   "cell_type": "code",
   "execution_count": 9,
   "id": "25255a83-9a10-4bea-8646-5bfbed77fcb0",
   "metadata": {},
   "outputs": [
    {
     "name": "stdout",
     "output_type": "stream",
     "text": [
      "📊 Robot state monitor ready\n"
     ]
    }
   ],
   "source": [
    "class RobotStateMonitor:\n",
    "    def __init__(self):\n",
    "        self.position = Point()\n",
    "        self.min_distance = float('inf')\n",
    "        \n",
    "        # Setup subscribers\n",
    "        rospy.Subscriber('/odom', Odometry, self.odom_callback)\n",
    "        rospy.Subscriber('/scan', LaserScan, self.scan_callback)\n",
    "        time.sleep(1)  # Allow time for subscriptions to establish\n",
    "    \n",
    "    def odom_callback(self, msg):\n",
    "        \"\"\"Update current robot position\"\"\"\n",
    "        self.position = msg.pose.pose.position\n",
    "    \n",
    "    def scan_callback(self, msg):\n",
    "        \"\"\"Update minimum obstacle distance\"\"\"\n",
    "        valid_ranges = [r for r in msg.ranges if not math.isinf(r) and r > 0.1]\n",
    "        self.min_distance = min(valid_ranges) if valid_ranges else float('inf')\n",
    "\n",
    "# Initialize monitor\n",
    "state_monitor = RobotStateMonitor()\n",
    "print(\"📊 Robot state monitor ready\")"
   ]
  },
  {
   "cell_type": "code",
   "execution_count": 10,
   "id": "b5bc2786-e038-4466-98fa-7f76b44c522d",
   "metadata": {},
   "outputs": [
    {
     "data": {
      "application/vnd.jupyter.widget-view+json": {
       "model_id": "923b880704084837a96b9ac3e0e819b1",
       "version_major": 2,
       "version_minor": 0
      },
      "text/plain": [
       "VBox(children=(HTML(value='<h2>Robot Control Interface</h2>'), HBox(children=(FloatText(value=0.0, description…"
      ]
     },
     "metadata": {},
     "output_type": "display_data"
    }
   ],
   "source": [
    "# Create input widgets\n",
    "x_input = widgets.FloatText(value=0.0, description=\"Target X:\")\n",
    "y_input = widgets.FloatText(value=0.0, description=\"Target Y:\")\n",
    "\n",
    "# Create control buttons\n",
    "set_btn = widgets.Button(description=\"Set Goal\", button_style='success')\n",
    "cancel_btn = widgets.Button(description=\"Cancel Goal\", button_style='danger')\n",
    "\n",
    "# Create status displays\n",
    "position_label = widgets.Label(value=\"Position: (0.00, 0.00)\")\n",
    "distance_label = widgets.Label(value=\"Closest obstacle: ∞\")\n",
    "status_output = widgets.Output()\n",
    "\n",
    "# Assemble UI layout\n",
    "display(widgets.VBox([\n",
    "    widgets.HTML(\"<h2>Robot Control Interface</h2>\"),\n",
    "    widgets.HBox([x_input, y_input]),\n",
    "    widgets.HBox([set_btn, cancel_btn]),\n",
    "    widgets.HTML(\"<b>Current Status:</b>\"),\n",
    "    position_label,\n",
    "    distance_label,\n",
    "    status_output\n",
    "]))"
   ]
  },
  {
   "cell_type": "code",
   "execution_count": 11,
   "id": "10f7cbee-2adb-4528-ab62-607b98291e4d",
   "metadata": {},
   "outputs": [],
   "source": [
    "def set_goal(_):\n",
    "    if not action_client.connected:\n",
    "        with status_output:\n",
    "            print(\"⚠️ Not connected to action server!\")\n",
    "        return\n",
    "    \n",
    "    goal = PlanningGoal()\n",
    "    goal.target_pose = PoseStamped()\n",
    "    goal.target_pose.pose.position.x = x_input.value\n",
    "    goal.target_pose.pose.position.y = y_input.value\n",
    "    \n",
    "    with status_output:\n",
    "        print(f\"🎯 New goal set: ({x_input.value}, {y_input.value})\")\n",
    "    action_client.client.send_goal(goal)\n",
    "\n",
    "def cancel_goal(_):\n",
    "    action_client.client.cancel_goal()\n",
    "    with status_output:\n",
    "        print(\"⛔ Current goal cancelled\")\n",
    "\n",
    "# Link buttons to functions\n",
    "set_btn.on_click(set_goal)\n",
    "cancel_btn.on_click(cancel_goal)"
   ]
  },
  {
   "cell_type": "code",
   "execution_count": null,
   "id": "7238e03a-07ce-4936-855e-d6a93b490bbb",
   "metadata": {},
   "outputs": [],
   "source": []
  },
  {
   "cell_type": "code",
   "execution_count": null,
   "id": "2ce47a10-9997-4f28-a88f-73f0e1bc4a7c",
   "metadata": {},
   "outputs": [],
   "source": []
  },
  {
   "cell_type": "code",
   "execution_count": null,
   "id": "3ddb9e81-83af-40d3-aa18-233be5b8b6f2",
   "metadata": {},
   "outputs": [],
   "source": []
  },
  {
   "cell_type": "code",
   "execution_count": null,
   "id": "30ed2b08-9446-4856-a564-35b2cea1dc4f",
   "metadata": {},
   "outputs": [],
   "source": []
  },
  {
   "cell_type": "code",
   "execution_count": null,
   "id": "1c9f8cd9-4c2e-4fcd-81e7-a407430cf68a",
   "metadata": {},
   "outputs": [],
   "source": []
  },
  {
   "cell_type": "code",
   "execution_count": null,
   "id": "608f46ec-811d-4aa0-a5d1-c42073530f86",
   "metadata": {},
   "outputs": [],
   "source": []
  },
  {
   "cell_type": "code",
   "execution_count": null,
   "id": "89f429c1-a54a-410e-865b-b302162251ba",
   "metadata": {},
   "outputs": [],
   "source": []
  },
  {
   "cell_type": "code",
   "execution_count": null,
   "id": "0d369883-1e73-40e0-ac2a-72301560bada",
   "metadata": {},
   "outputs": [],
   "source": []
  },
  {
   "cell_type": "code",
   "execution_count": null,
   "id": "4183658a-8544-4e5e-8735-d1d2c191d166",
   "metadata": {},
   "outputs": [],
   "source": []
  },
  {
   "cell_type": "code",
   "execution_count": null,
   "id": "6d490e43-b125-45c2-b8ac-7fcb47dff40a",
   "metadata": {},
   "outputs": [],
   "source": []
  },
  {
   "cell_type": "code",
   "execution_count": null,
   "id": "f0870587-b1a9-4fea-954c-c318d907d6cd",
   "metadata": {},
   "outputs": [],
   "source": []
  },
  {
   "cell_type": "code",
   "execution_count": null,
   "id": "4e936c66-54d7-4ec5-80f6-6d440652135a",
   "metadata": {},
   "outputs": [],
   "source": []
  },
  {
   "cell_type": "code",
   "execution_count": null,
   "id": "a531d17b-af31-4918-a8da-f3928a1d06a0",
   "metadata": {},
   "outputs": [],
   "source": []
  },
  {
   "cell_type": "code",
   "execution_count": null,
   "id": "8f49ff4d-9c68-4a67-9991-6d10555ceb97",
   "metadata": {},
   "outputs": [],
   "source": []
  },
  {
   "cell_type": "code",
   "execution_count": null,
   "id": "50be655c-3f65-4ddf-b560-6dca0b482a3b",
   "metadata": {},
   "outputs": [],
   "source": []
  }
 ],
 "metadata": {
  "kernelspec": {
   "display_name": "Python 3 (ipykernel)",
   "language": "python",
   "name": "python3"
  },
  "language_info": {
   "codemirror_mode": {
    "name": "ipython",
    "version": 3
   },
   "file_extension": ".py",
   "mimetype": "text/x-python",
   "name": "python",
   "nbconvert_exporter": "python",
   "pygments_lexer": "ipython3",
   "version": "3.8.20"
  }
 },
 "nbformat": 4,
 "nbformat_minor": 5
}
