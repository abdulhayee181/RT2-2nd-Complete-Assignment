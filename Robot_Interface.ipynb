{
 "cells": [
  {
   "cell_type": "code",
   "execution_count": 1,
   "id": "a72d7ffe-cb79-4b90-875d-8dd73c98f9cd",
   "metadata": {},
   "outputs": [
    {
     "name": "stderr",
     "output_type": "stream",
     "text": [
      "[ERROR] [1746891617.302373, 2152.100000]: bad callback: <bound method ActionClient._result_cb of <actionlib.action_client.ActionClient object at 0x7f79541001f0>>\n",
      "Traceback (most recent call last):\n",
      "  File \"/opt/ros/noetic/lib/python3/dist-packages/rospy/topics.py\", line 750, in _invoke_callback\n",
      "    cb(msg)\n",
      "  File \"/opt/ros/noetic/lib/python3/dist-packages/actionlib/action_client.py\", line 639, in _result_cb\n",
      "    self.manager.update_results(msg)\n",
      "  File \"/opt/ros/noetic/lib/python3/dist-packages/actionlib/action_client.py\", line 492, in update_results\n",
      "    status.update_result(action_result)\n",
      "  File \"/opt/ros/noetic/lib/python3/dist-packages/actionlib/action_client.py\", line 404, in update_result\n",
      "    self.transition_to(CommState.DONE)\n",
      "  File \"/opt/ros/noetic/lib/python3/dist-packages/actionlib/action_client.py\", line 377, in transition_to\n",
      "    self.transition_cb(ClientGoalHandle(self))\n",
      "  File \"/opt/ros/noetic/lib/python3/dist-packages/actionlib/simple_action_client.py\", line 245, in _handle_transition\n",
      "    self.done_cb(gh.get_goal_status(), gh.get_result())\n",
      "  File \"/tmp/ipykernel_23837/3971221839.py\", line 24, in goal_result_callback\n",
      "    tracker.add_point(result.actual_pose.position.x, result.actual_pose.position.y)\n",
      "AttributeError: 'PlanningResult' object has no attribute 'actual_pose'\n",
      "\n",
      "[ERROR] [1746891850.261266, 2344.460000]: bad callback: <bound method ActionClient._result_cb of <actionlib.action_client.ActionClient object at 0x7f79541001f0>>\n",
      "Traceback (most recent call last):\n",
      "  File \"/opt/ros/noetic/lib/python3/dist-packages/rospy/topics.py\", line 750, in _invoke_callback\n",
      "    cb(msg)\n",
      "  File \"/opt/ros/noetic/lib/python3/dist-packages/actionlib/action_client.py\", line 639, in _result_cb\n",
      "    self.manager.update_results(msg)\n",
      "  File \"/opt/ros/noetic/lib/python3/dist-packages/actionlib/action_client.py\", line 492, in update_results\n",
      "    status.update_result(action_result)\n",
      "  File \"/opt/ros/noetic/lib/python3/dist-packages/actionlib/action_client.py\", line 404, in update_result\n",
      "    self.transition_to(CommState.DONE)\n",
      "  File \"/opt/ros/noetic/lib/python3/dist-packages/actionlib/action_client.py\", line 377, in transition_to\n",
      "    self.transition_cb(ClientGoalHandle(self))\n",
      "  File \"/opt/ros/noetic/lib/python3/dist-packages/actionlib/simple_action_client.py\", line 245, in _handle_transition\n",
      "    self.done_cb(gh.get_goal_status(), gh.get_result())\n",
      "  File \"/tmp/ipykernel_23837/3971221839.py\", line 24, in goal_result_callback\n",
      "    tracker.add_point(result.actual_pose.position.x, result.actual_pose.position.y)\n",
      "AttributeError: 'PlanningResult' object has no attribute 'actual_pose'\n",
      "\n"
     ]
    }
   ],
   "source": [
    "# Core functionality\n",
    "import rospy\n",
    "import actionlib\n",
    "import numpy as np\n",
    "import matplotlib.pyplot as plt\n",
    "import ipywidgets as widgets\n",
    "from IPython.display import display\n",
    "import math\n",
    "\n",
    "# ROS messages\n",
    "from geometry_msgs.msg import Point, PoseStamped\n",
    "from nav_msgs.msg import Odometry\n",
    "from sensor_msgs.msg import LaserScan\n",
    "from assignment_2_2024.msg import PlanningAction, PlanningGoal\n",
    "\n",
    "# Initialize ROS\n",
    "rospy.init_node('Robot_interface', anonymous=True)\n",
    "%matplotlib inline"
   ]
  },
  {
   "cell_type": "code",
   "execution_count": 2,
   "id": "e1bd9fa4-fa4c-40ab-a965-ea6f51b540f1",
   "metadata": {},
   "outputs": [
    {
     "name": "stdout",
     "output_type": "stream",
     "text": [
      "✅ Action server connected\n"
     ]
    }
   ],
   "source": [
    "class ActionClient:\n",
    "    def __init__(self):\n",
    "        self.client = actionlib.SimpleActionClient('/reaching_goal', PlanningAction)\n",
    "        if self.client.wait_for_server(timeout=rospy.Duration(5)):\n",
    "            print(\"✅ Action server connected\")\n",
    "        else:\n",
    "            print(\"❌ Server not found - Run your launch file first!\")\n",
    "\n",
    "client = ActionClient()"
   ]
  },
  {
   "cell_type": "code",
   "execution_count": 4,
   "id": "3265fb63-cd06-4a06-a73e-83dd3446eab5",
   "metadata": {},
   "outputs": [],
   "source": [
    "#State Monitoring \n",
    "\n",
    "class RobotStateMonitor:\n",
    "    def __init__(self):\n",
    "        self.position = Point()\n",
    "        self.min_distance = float('inf')\n",
    "        \n",
    "        # Setup subscribers\n",
    "        rospy.Subscriber('/odom', Odometry, self.odom_callback)\n",
    "        rospy.Subscriber('/scan', LaserScan, self.scan_callback)\n",
    "        time.sleep(1)  # Allow time for subscriptions to establish\n",
    "    \n",
    "    def odom_callback(self, msg):\n",
    "        \"\"\"Update current robot position\"\"\"\n",
    "        self.position = msg.pose.pose.position\n",
    "    \n",
    "    def scan_callback(self, msg):\n",
    "        \"\"\"Update minimum obstacle distance\"\"\"\n",
    "        valid_ranges = [r for r in msg.ranges if not math.isinf(r) and r > 0.1]\n",
    "        self.min_distance = min(valid_ranges) if valid_ranges else float('inf')\n",
    "\n",
    "# Initialize monitor\n",
    "state_monitor = RobotStateMonitor()\n",
    "print(\"📊 Robot state monitor ready\")"
   ]
  },
  {
   "cell_type": "code",
   "execution_count": null,
   "id": "c83ee841-1b53-49b1-833d-a267bff2b02e",
   "metadata": {},
   "outputs": [],
   "source": []
  },
  {
   "cell_type": "code",
   "execution_count": 5,
   "id": "4d15f526-324b-4700-a40e-ad380a575c77",
   "metadata": {},
   "outputs": [],
   "source": [
    "class GoalTracker:\n",
    "    def __init__(self):\n",
    "        self.reached = 0\n",
    "        self.cancelled = 0\n",
    "        self.path_x = []\n",
    "        self.path_y = []\n",
    "    \n",
    "    def add_point(self, x, y):\n",
    "        self.path_x.append(x)\n",
    "        self.path_y.append(y)\n",
    "    \n",
    "    def mark_reached(self):\n",
    "        self.reached += 1\n",
    "    \n",
    "    def mark_cancelled(self):\n",
    "        self.cancelled += 1\n",
    "\n",
    "# Global tracker object for visualization\n",
    "tracker = GoalTracker()"
   ]
  },
  {
   "cell_type": "code",
   "execution_count": 6,
   "id": "04c34f2d-903a-4919-8463-3ce5a940c432",
   "metadata": {},
   "outputs": [],
   "source": [
    "def set_goal(_):\n",
    "    goal = PlanningGoal()\n",
    "    goal.target_pose = PoseStamped()\n",
    "    goal.target_pose.pose.position.x = x_input.value\n",
    "    goal.target_pose.pose.position.y = y_input.value\n",
    "    \n",
    "    # Record initial position\n",
    "    tracker.add_point(monitor.position.x, monitor.position.y)\n",
    "    \n",
    "    client.client.send_goal(goal, done_cb=goal_result_callback)\n",
    "    with status:\n",
    "        print(f\"Moving to: ({x_input.value}, {y_input.value})\")\n",
    "\n",
    "def cancel_goal(_):\n",
    "    client.client.cancel_goal()\n",
    "    tracker.mark_cancelled()\n",
    "    with status:\n",
    "        print(\"Goal cancelled\")\n",
    "\n",
    "def goal_result_callback(status, result):\n",
    "    if status == actionlib.GoalStatus.SUCCEEDED:\n",
    "        tracker.mark_reached()\n",
    "        # Record final position\n",
    "        tracker.add_point(result.actual_pose.position.x, result.actual_pose.position.y)\n",
    "        with status:\n",
    "            print(f\"✅ Reached: ({result.actual_pose.position.x:.2f}, {result.actual_pose.position.y:.2f})\")\n",
    "\n"
   ]
  },
  {
   "cell_type": "code",
   "execution_count": 7,
   "id": "7d9f8bf4-e9e9-429c-831f-1b8c6bb58969",
   "metadata": {},
   "outputs": [
    {
     "data": {
      "application/vnd.jupyter.widget-view+json": {
       "model_id": "7b6d22ddd14144cfbc313ede10bb6a40",
       "version_major": 2,
       "version_minor": 0
      },
      "text/plain": [
       "VBox(children=(HBox(children=(FloatText(value=0.0, description='Target X:'), FloatText(value=0.0, description=…"
      ]
     },
     "metadata": {},
     "output_type": "display_data"
    }
   ],
   "source": [
    "# Widgets\n",
    "x_input = widgets.FloatText(description=\"Target X:\")\n",
    "y_input = widgets.FloatText(description=\"Target Y:\")\n",
    "set_btn = widgets.Button(description=\"Set Goal\", button_style='success')\n",
    "cancel_btn = widgets.Button(description=\"Cancel Goal\", button_style='danger')\n",
    "status = widgets.Output()\n",
    "\n",
    "# Display\n",
    "display(widgets.VBox([\n",
    "    widgets.HBox([x_input, y_input]),\n",
    "    widgets.HBox([set_btn, cancel_btn]), \n",
    "    status\n",
    "]))\n",
    "\n",
    "set_btn.on_click(set_goal)\n",
    "cancel_btn.on_click(cancel_goal)"
   ]
  },
  {
   "cell_type": "code",
   "execution_count": 16,
   "id": "16787284-979b-4394-b5b3-7ab241e7c92c",
   "metadata": {},
   "outputs": [],
   "source": [
    "def update_path():\n",
    "    tracker.add_point(monitor.position.x, monitor.position.y)\n",
    "\n",
    "# Start background updater\n",
    "import threading\n",
    "updater = threading.Thread(target=lambda: [rospy.sleep(0.5), update_path()])\n",
    "updater.daemon = True\n",
    "updater.start()"
   ]
  },
  {
   "cell_type": "code",
   "execution_count": 17,
   "id": "c9a6b66e-68d7-4e4e-8cd1-b85648eb22e6",
   "metadata": {},
   "outputs": [
    {
     "data": {
      "image/png": "[encoded data removed]",
      "text/plain": [
       "<Figure size 1200x500 with 2 Axes>"
      ]
     },
     "metadata": {},
     "output_type": "display_data"
    }
   ],
   "source": [
    "# Create figure\n",
    "plt.figure(figsize=(12,5))\n",
    "\n",
    "# Position plot\n",
    "plt.subplot(1,2,1)\n",
    "plt.plot(tracker.path_x, tracker.path_y, 'b-', label='Path')\n",
    "plt.plot(monitor.position.x, monitor.position.y, 'ro', label='Current')\n",
    "if len(tracker.path_x) > 1:\n",
    "    plt.plot(tracker.path_x[0], tracker.path_y[0], 'go', markersize=8, label='Start')\n",
    "    plt.plot(tracker.path_x[-1], tracker.path_y[-1], 'rx', markersize=10, label='End')\n",
    "plt.title(\"Robot Movement Path\")\n",
    "plt.xlabel(\"X [m]\")\n",
    "plt.ylabel(\"Y [m]\")\n",
    "plt.grid(True)\n",
    "plt.legend()\n",
    "\n",
    "# Stats plot\n",
    "plt.subplot(1,2,2)\n",
    "plt.bar(['Reached', 'Cancelled'], \n",
    "        [tracker.reached, tracker.cancelled],\n",
    "        color=['green', 'red'])\n",
    "plt.title(\"Goal Completion\")\n",
    "plt.ylabel(\"Count\")\n",
    "plt.ylim(0, max(5, tracker.reached + tracker.cancelled + 1))\n",
    "\n",
    "plt.tight_layout()\n",
    "plt.show()"
   ]
  },
  {
   "cell_type": "code",
   "execution_count": null,
   "id": "6aeb31e0-e155-487e-8603-e776b3e95925",
   "metadata": {},
   "outputs": [],
   "source": []
  },
  {
   "cell_type": "code",
   "execution_count": null,
   "id": "6aae0923-ff6c-4a1f-8d52-91ef0761d137",
   "metadata": {},
   "outputs": [],
   "source": []
  },
  {
   "cell_type": "code",
   "execution_count": null,
   "id": "7b3d4223-c344-4d8f-bf88-320cf18bb8d1",
   "metadata": {},
   "outputs": [],
   "source": []
  },
  {
   "cell_type": "code",
   "execution_count": null,
   "id": "c778a861-07b9-4b5a-9fe5-209358c479a6",
   "metadata": {},
   "outputs": [],
   "source": []
  },
  {
   "cell_type": "code",
   "execution_count": null,
   "id": "5ff9f650-e9c9-4b4c-9a9a-32138a7fa6e9",
   "metadata": {},
   "outputs": [],
   "source": []
  },
  {
   "cell_type": "code",
   "execution_count": null,
   "id": "8077f9ee-eddd-448f-a7cd-3690789b876f",
   "metadata": {},
   "outputs": [],
   "source": []
  },
  {
   "cell_type": "code",
   "execution_count": null,
   "id": "fe62bbb0-e268-41d4-a79d-ce4917e8081a",
   "metadata": {},
   "outputs": [],
   "source": []
  },
  {
   "cell_type": "code",
   "execution_count": null,
   "id": "2e9e157c-a297-4928-8fec-d1b77af18f29",
   "metadata": {},
   "outputs": [],
   "source": []
  },
  {
   "cell_type": "code",
   "execution_count": null,
   "id": "332fb8c6-f3aa-4a75-bea8-12463df0b167",
   "metadata": {},
   "outputs": [],
   "source": []
  },
  {
   "cell_type": "code",
   "execution_count": null,
   "id": "38ab66f2-5543-4b22-b3d8-b98f30ae7b73",
   "metadata": {},
   "outputs": [],
   "source": []
  },
  {
   "cell_type": "code",
   "execution_count": null,
   "id": "66343096-77c0-4407-94aa-2517e94bc651",
   "metadata": {},
   "outputs": [],
   "source": []
  },
  {
   "cell_type": "code",
   "execution_count": null,
   "id": "66fbabef-21d0-421e-bce9-178e99723d82",
   "metadata": {},
   "outputs": [],
   "source": []
  },
  {
   "cell_type": "code",
   "execution_count": null,
   "id": "6a4ba9f0-9e9e-4b65-8087-bbed5afe75f7",
   "metadata": {},
   "outputs": [],
   "source": []
  },
  {
   "cell_type": "code",
   "execution_count": null,
   "id": "169b0338-179d-4d09-84f4-9a5158570144",
   "metadata": {},
   "outputs": [],
   "source": []
  },
  {
   "cell_type": "code",
   "execution_count": null,
   "id": "91e610ff-a8d5-48ff-89f5-f413630f7e25",
   "metadata": {},
   "outputs": [],
   "source": []
  }
 ],
 "metadata": {
  "kernelspec": {
   "display_name": "Python 3 (ipykernel)",
   "language": "python",
   "name": "python3"
  },
  "language_info": {
   "codemirror_mode": {
    "name": "ipython",
    "version": 3
   },
   "file_extension": ".py",
   "mimetype": "text/x-python",
   "name": "python",
   "nbconvert_exporter": "python",
   "pygments_lexer": "ipython3",
   "version": "3.8.20"
  }
 },
 "nbformat": 4,
 "nbformat_minor": 5
}
